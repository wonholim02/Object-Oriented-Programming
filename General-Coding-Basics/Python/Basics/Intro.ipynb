{
 "cells": [
  {
   "cell_type": "markdown",
   "metadata": {},
   "source": [
    "# Python Basics "
   ]
  },
  {
   "cell_type": "markdown",
   "metadata": {},
   "source": [
    "## note"
   ]
  },
  {
   "cell_type": "markdown",
   "metadata": {},
   "source": [
    "### Jupyter Keys\n",
    "\n",
    "##### Run = Shift + Enter\n",
    "\n",
    "##### add new line down a\n",
    "\n",
    "##### add new line on b\n",
    "\n",
    "##### markdown M\n",
    "\n",
    "##### delete cell DD"
   ]
  },
  {
   "cell_type": "code",
   "execution_count": 1,
   "metadata": {},
   "outputs": [
    {
     "name": "stdout",
     "output_type": "stream",
     "text": [
      "1\n",
      "10\n"
     ]
    },
    {
     "data": {
      "text/plain": [
       "'10'"
      ]
     },
     "execution_count": 1,
     "metadata": {},
     "output_type": "execute_result"
    }
   ],
   "source": [
    "# If Python version > 3.0, () is needed for print\n",
    "print(1)\n",
    "# Annotation\n",
    "# Ctrl+ /\n",
    "# giving input \n",
    "input()"
   ]
  },
  {
   "cell_type": "code",
   "execution_count": 4,
   "metadata": {},
   "outputs": [],
   "source": [
    "#variables\n",
    "abcd = 1\n",
    "print(abcd)"
   ]
  },
  {
   "cell_type": "code",
   "execution_count": 5,
   "metadata": {
    "scrolled": true
   },
   "outputs": [
    {
     "name": "stdout",
     "output_type": "stream",
     "text": [
      "1\n"
     ]
    }
   ],
   "source": [
    "print(abcd)"
   ]
  },
  {
   "cell_type": "code",
   "execution_count": 6,
   "metadata": {},
   "outputs": [],
   "source": [
    "#these cannot be used as variables \n",
    "#1. blank / ex) a b=1(X)\n",
    "#2. Things that python already know / True=123(X)\n",
    "#3. except for _, special keys cannot be used !=a(X)\n",
    "#4. numbers cannot be used as first word / ex) 1a=b(X)\n",
    "#5. Exception -> Captialization is important / ex) true=123(O)"
   ]
  },
  {
   "cell_type": "code",
   "execution_count": 7,
   "metadata": {},
   "outputs": [],
   "source": [
    "# data type(data structure) \n",
    "#1. Numerical data type\n",
    "#2. String data type\n",
    "#3. Lists data type\n",
    "#4. Tuple data type\n",
    "#5. Dictionary data type\n",
    "# sets...etc"
   ]
  },
  {
   "cell_type": "code",
   "execution_count": 8,
   "metadata": {},
   "outputs": [],
   "source": [
    "#Python decides data type actively\n",
    "a = 1\n",
    "a = 'word'"
   ]
  },
  {
   "cell_type": "code",
   "execution_count": 9,
   "metadata": {},
   "outputs": [],
   "source": [
    "#Numerical data type\n",
    "a=382190381290382910839028390189012893812091823\n",
    "#no limit in length\n",
    "#number always written as float"
   ]
  },
  {
   "cell_type": "code",
   "execution_count": 10,
   "metadata": {},
   "outputs": [],
   "source": [
    "#Built-in data type\n",
    "#Built-in function"
   ]
  },
  {
   "cell_type": "code",
   "execution_count": 4,
   "metadata": {
    "scrolled": false
   },
   "outputs": [
    {
     "name": "stdout",
     "output_type": "stream",
     "text": [
      "<class 'complex'>\n",
      "<class 'int'>\n",
      "1.0\n",
      "<class 'float'>\n"
     ]
    }
   ],
   "source": [
    "#Check type with built in function\n",
    "a = 10 + 2j\n",
    "print(type(a))\n",
    "\n",
    "b = 1 \n",
    "print(type(b))\n",
    "\n",
    "c = float(b)\n",
    "print(c)\n",
    "print(type(c))"
   ]
  },
  {
   "cell_type": "code",
   "execution_count": 2,
   "metadata": {
    "scrolled": true
   },
   "outputs": [
    {
     "name": "stdout",
     "output_type": "stream",
     "text": [
      "a\n"
     ]
    }
   ],
   "source": [
    "#String data type\n",
    "#there is no char in python: it is formed bysets\n",
    "\n",
    "#all fine\n",
    "a = 'abc'\n",
    "v = \"bdg\"\n",
    "#it has indexes\n",
    "print(a[0])\n",
    "#the value of each index cannot be changed idependantly"
   ]
  },
  {
   "cell_type": "code",
   "execution_count": 3,
   "metadata": {},
   "outputs": [
    {
     "name": "stdout",
     "output_type": "stream",
     "text": [
      "bdfhj\n"
     ]
    }
   ],
   "source": [
    "#slicing\n",
    "a = 'abcdefghijklnmop'\n",
    "print(a[1:10:2])\n",
    "#index start from zero\n",
    "#1st value is starting point\n",
    "#2nd value is exclusive end point\n",
    "#3rd value is step gap\n",
    "#blank counts everything\n",
    "#negative value goes from behind"
   ]
  }
 ],
 "metadata": {
  "kernelspec": {
   "display_name": "Python 3",
   "language": "python",
   "name": "python3"
  },
  "language_info": {
   "codemirror_mode": {
    "name": "ipython",
    "version": 3
   },
   "file_extension": ".py",
   "mimetype": "text/x-python",
   "name": "python",
   "nbconvert_exporter": "python",
   "pygments_lexer": "ipython3",
   "version": "3.7.4"
  }
 },
 "nbformat": 4,
 "nbformat_minor": 2
}
