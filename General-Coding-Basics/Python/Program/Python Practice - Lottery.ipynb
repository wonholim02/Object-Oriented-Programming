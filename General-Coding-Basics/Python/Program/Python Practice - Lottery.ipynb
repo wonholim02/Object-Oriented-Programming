{
 "cells": [
  {
   "cell_type": "code",
   "execution_count": 9,
   "metadata": {},
   "outputs": [],
   "source": [
    "#Library\n",
    "#Module .py"
   ]
  },
  {
   "cell_type": "code",
   "execution_count": 6,
   "metadata": {},
   "outputs": [],
   "source": [
    "#1.Lottery maker\n",
    "#1. 1 ~ 45\n",
    "#2. Price:1000, Pick 6 numbers(no redundancy)\n",
    "#3. 6 corrrect = win"
   ]
  },
  {
   "cell_type": "code",
   "execution_count": 20,
   "metadata": {},
   "outputs": [
    {
     "name": "stdout",
     "output_type": "stream",
     "text": [
      "[31, 38, 11, 39, 43, 23]\n"
     ]
    }
   ],
   "source": [
    "lotto = []\n",
    "while True:\n",
    "    num = int(random.random()*100)\n",
    "    if(num>0 and num <46):\n",
    "        if(num not in lotto):\n",
    "            lotto.append(num)\n",
    "    if(len(lotto) == 6):\n",
    "        break\n",
    "print(lotto)"
   ]
  },
  {
   "cell_type": "code",
   "execution_count": 21,
   "metadata": {},
   "outputs": [],
   "source": [
    "lotto = random.sample(range(1,46),6)"
   ]
  },
  {
   "cell_type": "code",
   "execution_count": 1,
   "metadata": {},
   "outputs": [],
   "source": [
    "#Start\n",
    "#make numbers\n",
    "#check\n",
    "    #whether the number exist\n",
    "    #yes : count 1 + check the next number\n",
    "    #no : X\n",
    "# if the count is 6\n",
    "    #yes: end\n",
    "    #no: count and add another"
   ]
  },
  {
   "cell_type": "code",
   "execution_count": 2,
   "metadata": {
    "scrolled": true
   },
   "outputs": [
    {
     "name": "stdout",
     "output_type": "stream",
     "text": [
      "100000 th trial\n",
      "200000 th trial\n",
      "300000 th trial\n",
      "400000 th trial\n",
      "500000 th trial\n",
      "600000 th trial\n",
      "700000 th trial\n",
      "800000 th trial\n",
      "900000 th trial\n",
      "1000000 th trial\n",
      "1100000 th trial\n",
      "1200000 th trial\n",
      "1300000 th trial\n",
      "1400000 th trial\n",
      "1500000 th trial\n",
      "1600000 th trial\n",
      "1700000 th trial\n",
      "1800000 th trial\n",
      "1900000 th trial\n",
      "2000000 th trial\n",
      "2100000 th trial\n",
      "2200000 th trial\n",
      "2300000 th trial\n",
      "2400000 th trial\n",
      "2500000 th trial\n",
      "2600000 th trial\n",
      "2700000 th trial\n",
      "2800000 th trial\n",
      "2900000 th trial\n",
      "3000000 th trial\n",
      "3100000 th trial\n",
      "3200000 th trial\n",
      "3300000 th trial\n",
      "3400000 th trial\n",
      "3500000 th trial\n",
      "3600000 th trial\n",
      "3700000 th trial\n",
      "3800000 th trial\n",
      "3900000 th trial\n",
      "4000000 th trial\n",
      "4100000 th trial\n",
      "4200000 th trial\n",
      "4300000 th trial\n",
      "4400000 th trial\n",
      "4500000 th trial\n",
      "4600000 th trial\n",
      "4700000 th trial\n",
      "4800000 th trial\n",
      "4900000 th trial\n",
      "{'1': 1, '2': 4, '3': 143, '4': 6852, '5': 111665}\n",
      "4994963\n"
     ]
    }
   ],
   "source": [
    "import keyword\n",
    "import random\n",
    "\n",
    "answer = [2,6,8,26,43,45]\n",
    "bonus =  11\n",
    "\n",
    "result = dict()\n",
    "result = {'1':0,'2':0,'3':0,'4':0,'5':0}\n",
    "numbers = []\n",
    "count = 0\n",
    "\n",
    "time = 0\n",
    "a = True\n",
    "\n",
    "while (a == True):\n",
    "    count  = 0\n",
    "    numbers = []\n",
    "    adding = 0\n",
    "    check = True\n",
    "    numbers.append(int(random.random() * 45 + 1))\n",
    "    \n",
    "    while (len(numbers) < 6):\n",
    "        check = True\n",
    "        adding = int(random.random() * 45 + 1)\n",
    "        for i in range(0,len(numbers)):\n",
    "            if(numbers[i]==adding):\n",
    "                check = False\n",
    "        if(check == True):\n",
    "            numbers.append(adding)\n",
    "            \n",
    "    time = time + 1\n",
    "    \n",
    "    for i in range(0,6):\n",
    "        for j in range(0,6):\n",
    "            if(numbers[i] == answer[j]):\n",
    "                count = count + 1  \n",
    "                \n",
    "    if(count == 6):\n",
    "        result['1'] = 1\n",
    "        a= False\n",
    "        \n",
    "    if(count == 5):\n",
    "        go = True \n",
    "        for p in range(0,6):\n",
    "                if(numbers[p] == bonus):\n",
    "                    result['2'] = result['2'] + 1\n",
    "                    go = False\n",
    "        if(go==True):\n",
    "            result['3'] = result['3'] + 1\n",
    "            \n",
    "    if(count == 4):\n",
    "        result['4'] = result['4'] + 1\n",
    "        \n",
    "    if(count == 3):\n",
    "        result['5'] = result['5'] + 1\n",
    "\n",
    "    if time % 100000 == 0:\n",
    "        print(time, \"th trial\" )\n",
    "        \n",
    "print(result)\n",
    "print(time)"
   ]
  },
  {
   "cell_type": "code",
   "execution_count": null,
   "metadata": {},
   "outputs": [],
   "source": []
  }
 ],
 "metadata": {
  "kernelspec": {
   "display_name": "Python 3",
   "language": "python",
   "name": "python3"
  },
  "language_info": {
   "codemirror_mode": {
    "name": "ipython",
    "version": 3
   },
   "file_extension": ".py",
   "mimetype": "text/x-python",
   "name": "python",
   "nbconvert_exporter": "python",
   "pygments_lexer": "ipython3",
   "version": "3.7.4"
  }
 },
 "nbformat": 4,
 "nbformat_minor": 2
}
