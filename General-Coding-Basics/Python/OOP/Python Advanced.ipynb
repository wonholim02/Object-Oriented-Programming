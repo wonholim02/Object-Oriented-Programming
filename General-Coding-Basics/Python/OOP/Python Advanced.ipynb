{
 "cells": [
  {
   "cell_type": "markdown",
   "metadata": {},
   "source": [
    "# 1.Function\n",
    "# 2.Module\n",
    "# 3.Crawling the value in the homepage\n",
    "# - Using the own Python code\n",
    "# - Additional Library\n",
    "# 4.Database(Sotring the value)\n",
    "# -Put the value in the Database\n",
    "# 5.Making my computer as a server"
   ]
  },
  {
   "cell_type": "code",
   "execution_count": 17,
   "metadata": {},
   "outputs": [],
   "source": [
    "import random\n",
    "def func():\n",
    "    print(1)"
   ]
  },
  {
   "cell_type": "code",
   "execution_count": 2,
   "metadata": {
    "scrolled": false
   },
   "outputs": [
    {
     "name": "stdout",
     "output_type": "stream",
     "text": [
      "1\n"
     ]
    }
   ],
   "source": [
    "func()"
   ]
  },
  {
   "cell_type": "code",
   "execution_count": 14,
   "metadata": {},
   "outputs": [],
   "source": [
    "def make():\n",
    "    adding = 0\n",
    "    numbers = []\n",
    "    check = True\n",
    "    numbers.append(int(random.random() * 45 + 1))\n",
    "    while (len(numbers) < 6):\n",
    "        check = True\n",
    "        adding = int(random.random() * 45 + 1)\n",
    "        for i in range(0,len(numbers)):\n",
    "            if(numbers[i]==adding):\n",
    "                check = False\n",
    "        if(check == True):\n",
    "            numbers.append(adding)\n",
    "    return numbers"
   ]
  },
  {
   "cell_type": "code",
   "execution_count": 16,
   "metadata": {
    "scrolled": true
   },
   "outputs": [
    {
     "name": "stdout",
     "output_type": "stream",
     "text": [
      "100000 번째 실행중\n",
      "200000 번째 실행중\n",
      "300000 번째 실행중\n",
      "400000 번째 실행중\n",
      "500000 번째 실행중\n",
      "600000 번째 실행중\n",
      "700000 번째 실행중\n",
      "800000 번째 실행중\n",
      "900000 번째 실행중\n",
      "1000000 번째 실행중\n",
      "1100000 번째 실행중\n",
      "1200000 번째 실행중\n",
      "1300000 번째 실행중\n",
      "1400000 번째 실행중\n",
      "1500000 번째 실행중\n",
      "1600000 번째 실행중\n",
      "1700000 번째 실행중\n",
      "1800000 번째 실행중\n",
      "1900000 번째 실행중\n",
      "2000000 번째 실행중\n",
      "2100000 번째 실행중\n",
      "2200000 번째 실행중\n",
      "2300000 번째 실행중\n",
      "2400000 번째 실행중\n",
      "2500000 번째 실행중\n",
      "2600000 번째 실행중\n",
      "2700000 번째 실행중\n",
      "2800000 번째 실행중\n",
      "2900000 번째 실행중\n",
      "3000000 번째 실행중\n",
      "3100000 번째 실행중\n",
      "3200000 번째 실행중\n",
      "3300000 번째 실행중\n",
      "3400000 번째 실행중\n",
      "3500000 번째 실행중\n",
      "3600000 번째 실행중\n",
      "3700000 번째 실행중\n",
      "3800000 번째 실행중\n",
      "3900000 번째 실행중\n",
      "4000000 번째 실행중\n",
      "4100000 번째 실행중\n",
      "4200000 번째 실행중\n",
      "4300000 번째 실행중\n",
      "4400000 번째 실행중\n",
      "4500000 번째 실행중\n",
      "4600000 번째 실행중\n",
      "4700000 번째 실행중\n",
      "4800000 번째 실행중\n",
      "4900000 번째 실행중\n",
      "5000000 번째 실행중\n",
      "5100000 번째 실행중\n",
      "5200000 번째 실행중\n",
      "5300000 번째 실행중\n",
      "5400000 번째 실행중\n",
      "5500000 번째 실행중\n",
      "5600000 번째 실행중\n",
      "5700000 번째 실행중\n",
      "5800000 번째 실행중\n",
      "5900000 번째 실행중\n",
      "6000000 번째 실행중\n",
      "6100000 번째 실행중\n",
      "6200000 번째 실행중\n",
      "6300000 번째 실행중\n",
      "6400000 번째 실행중\n",
      "6500000 번째 실행중\n",
      "6600000 번째 실행중\n",
      "6700000 번째 실행중\n",
      "6800000 번째 실행중\n",
      "6900000 번째 실행중\n",
      "7000000 번째 실행중\n",
      "7100000 번째 실행중\n",
      "7200000 번째 실행중\n",
      "7300000 번째 실행중\n",
      "7400000 번째 실행중\n",
      "7500000 번째 실행중\n",
      "7600000 번째 실행중\n",
      "7700000 번째 실행중\n",
      "7800000 번째 실행중\n",
      "7900000 번째 실행중\n",
      "8000000 번째 실행중\n",
      "8100000 번째 실행중\n",
      "8200000 번째 실행중\n",
      "8300000 번째 실행중\n",
      "8400000 번째 실행중\n",
      "8500000 번째 실행중\n",
      "8600000 번째 실행중\n",
      "8700000 번째 실행중\n",
      "8800000 번째 실행중\n",
      "8900000 번째 실행중\n",
      "9000000 번째 실행중\n",
      "9100000 번째 실행중\n",
      "9200000 번째 실행중\n",
      "9300000 번째 실행중\n",
      "9400000 번째 실행중\n",
      "9500000 번째 실행중\n",
      "9600000 번째 실행중\n",
      "9700000 번째 실행중\n",
      "9800000 번째 실행중\n",
      "9900000 번째 실행중\n",
      "10000000 번째 실행중\n",
      "10100000 번째 실행중\n",
      "10200000 번째 실행중\n",
      "10300000 번째 실행중\n",
      "10400000 번째 실행중\n",
      "10500000 번째 실행중\n",
      "10600000 번째 실행중\n",
      "10700000 번째 실행중\n",
      "10800000 번째 실행중\n",
      "10900000 번째 실행중\n",
      "11000000 번째 실행중\n",
      "11100000 번째 실행중\n",
      "11200000 번째 실행중\n",
      "11300000 번째 실행중\n",
      "11400000 번째 실행중\n",
      "11500000 번째 실행중\n",
      "11600000 번째 실행중\n",
      "11700000 번째 실행중\n",
      "11800000 번째 실행중\n",
      "11900000 번째 실행중\n",
      "12000000 번째 실행중\n",
      "12100000 번째 실행중\n",
      "12200000 번째 실행중\n",
      "12300000 번째 실행중\n",
      "12400000 번째 실행중\n",
      "12500000 번째 실행중\n",
      "12600000 번째 실행중\n",
      "12700000 번째 실행중\n",
      "12800000 번째 실행중\n",
      "12900000 번째 실행중\n",
      "13000000 번째 실행중\n",
      "13100000 번째 실행중\n",
      "13200000 번째 실행중\n",
      "13300000 번째 실행중\n",
      "13400000 번째 실행중\n",
      "13500000 번째 실행중\n",
      "13600000 번째 실행중\n",
      "13700000 번째 실행중\n",
      "13800000 번째 실행중\n",
      "13900000 번째 실행중\n",
      "14000000 번째 실행중\n",
      "14100000 번째 실행중\n",
      "14200000 번째 실행중\n",
      "14300000 번째 실행중\n",
      "14400000 번째 실행중\n",
      "14500000 번째 실행중\n",
      "14600000 번째 실행중\n",
      "14700000 번째 실행중\n",
      "14800000 번째 실행중\n",
      "14900000 번째 실행중\n",
      "15000000 번째 실행중\n",
      "15100000 번째 실행중\n",
      "15200000 번째 실행중\n",
      "15300000 번째 실행중\n",
      "15400000 번째 실행중\n",
      "15500000 번째 실행중\n",
      "15600000 번째 실행중\n",
      "15700000 번째 실행중\n",
      "15800000 번째 실행중\n",
      "15856210\n",
      "[26, 6, 45, 2, 43, 8]\n"
     ]
    }
   ],
   "source": [
    "time = 0\n",
    "count = 0\n",
    "answer = [2,6,8,26,43,45]\n",
    "\n",
    "while (count != 6):\n",
    "    \n",
    "    count  = 0\n",
    "    \n",
    "    numbers = make()\n",
    "            \n",
    "    time = time + 1\n",
    "    for i in range(0,6):\n",
    "        for j in range(0,6):\n",
    "            if(numbers[i] == answer[j]):\n",
    "                count = count + 1                \n",
    "    if(count == 6):\n",
    "        print (time)\n",
    "        print (numbers)\n",
    "    if time % 100000 == 0:\n",
    "        print(time, \"번째 실행중\" )"
   ]
  },
  {
   "cell_type": "code",
   "execution_count": 19,
   "metadata": {},
   "outputs": [],
   "source": [
    "def func():\n",
    "    #runs the code in the function\n",
    "    #value is None after running\n",
    "    print(1)\n",
    "    #return returns value\n",
    "    #overcome the limit of scope"
   ]
  },
  {
   "cell_type": "code",
   "execution_count": 20,
   "metadata": {},
   "outputs": [
    {
     "name": "stdout",
     "output_type": "stream",
     "text": [
      "1\n",
      "None\n"
     ]
    }
   ],
   "source": [
    "print(func())"
   ]
  },
  {
   "cell_type": "code",
   "execution_count": 22,
   "metadata": {},
   "outputs": [
    {
     "name": "stdout",
     "output_type": "stream",
     "text": [
      "12345\n"
     ]
    }
   ],
   "source": [
    "a = \"12345\"\n",
    "print(a)"
   ]
  },
  {
   "cell_type": "code",
   "execution_count": 24,
   "metadata": {},
   "outputs": [
    {
     "name": "stdout",
     "output_type": "stream",
     "text": [
      "None\n",
      "[1, 2, 3, 4, 5]\n"
     ]
    }
   ],
   "source": [
    "l = [4,2,5,3,1]\n",
    "print(l.sort())\n",
    "print(l)"
   ]
  },
  {
   "cell_type": "code",
   "execution_count": 28,
   "metadata": {},
   "outputs": [],
   "source": [
    "def args(a):\n",
    "    return a \n",
    "#a in the () is parameter"
   ]
  },
  {
   "cell_type": "code",
   "execution_count": 30,
   "metadata": {},
   "outputs": [],
   "source": [
    "#no method ovverride in python"
   ]
  },
  {
   "cell_type": "code",
   "execution_count": 31,
   "metadata": {},
   "outputs": [
    {
     "name": "stdout",
     "output_type": "stream",
     "text": [
      "a\n"
     ]
    }
   ],
   "source": [
    "print(args('a'))"
   ]
  },
  {
   "cell_type": "code",
   "execution_count": 32,
   "metadata": {},
   "outputs": [
    {
     "name": "stdout",
     "output_type": "stream",
     "text": [
      "1\n"
     ]
    }
   ],
   "source": [
    "print(args(1))"
   ]
  },
  {
   "cell_type": "code",
   "execution_count": 33,
   "metadata": {},
   "outputs": [],
   "source": [
    "def func(a=1):\n",
    "    return a\n",
    "    #using default parameter"
   ]
  },
  {
   "cell_type": "code",
   "execution_count": 35,
   "metadata": {},
   "outputs": [],
   "source": [
    "def func(a,b):\n",
    "    return a,b"
   ]
  },
  {
   "cell_type": "code",
   "execution_count": 36,
   "metadata": {},
   "outputs": [
    {
     "data": {
      "text/plain": [
       "(1, 2)"
      ]
     },
     "execution_count": 36,
     "metadata": {},
     "output_type": "execute_result"
    }
   ],
   "source": [
    "#print as tuple\n",
    "func(1,2)"
   ]
  },
  {
   "cell_type": "code",
   "execution_count": null,
   "metadata": {},
   "outputs": [],
   "source": [
    "import random\n",
    "\n",
    "test_num = [5,8,23,35,37,40]\n",
    "test_bonus = 2\n",
    "\n",
    "def create_lotto():\n",
    "    create_lotto = []\n",
    "\n",
    "    while True:\n",
    "        temp = random.randint(1,45)\n",
    "        if temp not in create_lotto:\n",
    "            create_lotto.append(temp)\n",
    "\n",
    "        if len(create_lotto) == 6:\n",
    "            break\n",
    "    return create_lotto\n",
    "\n",
    "def check_lotto(x):\n",
    "    if x>0 and x<6:    \n",
    "        attempt = 0\n",
    "        while True:\n",
    "            count = 0\n",
    "            lotto = create_lotto()\n",
    "            attempt +=1\n",
    "            for i in lotto:\n",
    "                if i in test_num:\n",
    "                    count +=1\n",
    "\n",
    "            if x == 1:\n",
    "                if count == 6:\n",
    "                    print(attempt,'번만에',x,'등 당첨')\n",
    "                    break\n",
    "            elif x == 2 or x == 3:\n",
    "                if count == 5:\n",
    "                    if test_bonus in lotto:\n",
    "                        print(attempt,'번만에',x,'등 당첨')\n",
    "                        break\n",
    "                    else:\n",
    "                        print(attempt,'번만에',x,'등 당첨')\n",
    "                        break\n",
    "            elif x == 4:\n",
    "                if count == 4:\n",
    "                    print(attempt,'번만에',x,'등 당첨')\n",
    "                    break\n",
    "            else:\n",
    "                if count == 3 and x == 5:\n",
    "                    print(attempt,'번만에',x,'등 당첨')\n",
    "                    break\n",
    "    else:\n",
    "        print('입력 오류, 1~5 사이의 숫자를 입력해주세요.')\n",
    "        \n",
    "check_lotto(3)"
   ]
  }
 ],
 "metadata": {
  "kernelspec": {
   "display_name": "Python 3",
   "language": "python",
   "name": "python3"
  },
  "language_info": {
   "codemirror_mode": {
    "name": "ipython",
    "version": 3
   },
   "file_extension": ".py",
   "mimetype": "text/x-python",
   "name": "python",
   "nbconvert_exporter": "python",
   "pygments_lexer": "ipython3",
   "version": "3.7.4"
  }
 },
 "nbformat": 4,
 "nbformat_minor": 2
}
